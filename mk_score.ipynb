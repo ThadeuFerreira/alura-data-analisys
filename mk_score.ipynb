{
 "cells": [
  {
   "cell_type": "code",
   "execution_count": 4,
   "metadata": {},
   "outputs": [
    {
     "name": "stdout",
     "output_type": "stream",
     "text": [
      "   user_id  item_id  rating  timestamp\n",
      "0      196      242       3  881250949\n",
      "1      186      302       3  891717742\n",
      "2       22      377       1  878887116\n",
      "3      244       51       2  880606923\n",
      "4      166      346       1  886397596\n",
      "   id  age gender  occupation zip_code\n",
      "0   1   24      M  technician    85711\n",
      "1   2   53      F       other    94043\n",
      "2   3   23      M      writer    32067\n",
      "3   4   24      M  technician    43537\n",
      "4   5   33      F       other    15213\n"
     ]
    }
   ],
   "source": [
    "import pandas as pd\n",
    "\n",
    "# Path to the u.data file\n",
    "file_path = 'data/mk/u.data'  # Update this if the file is in a different directory\n",
    "\n",
    "# Read the u.data file\n",
    "# The file is tab-separated and does not include header information, so we specify the column names\n",
    "columns = ['user_id', 'item_id', 'rating', 'timestamp']\n",
    "data = pd.read_csv(file_path, sep='\\t', names=columns)\n",
    "\n",
    "# Display the first few rows of the DataFrame to verify it's loaded correctly\n",
    "print(data.head())\n",
    "\n",
    "# u.item     -- Information about the items (movies); this is a tab separated\n",
    "#               list of\n",
    "#               movie id | movie title | release date | video release date |\n",
    "#               IMDb URL | unknown | Action | Adventure | Animation |\n",
    "#               Children's | Comedy | Crime | Documentary | Drama | Fantasy |\n",
    "#               Film-Noir | Horror | Musical | Mystery | Romance | Sci-Fi |\n",
    "#               Thriller | War | Western |\n",
    "\n",
    "# Path to the u.item file\n",
    "file_path = 'data/mk/u.item'  # Update this if the file is in a different directory\n",
    "columns = ['movie_id', 'movie_title', 'release_date', 'video_release_date', 'IMDb_URL',\n",
    "              'unknown', 'Action', 'Adventure', 'Animation', 'Children', 'Comedy', 'Crime',\n",
    "              'Documentary', 'Drama', 'Fantasy', 'Film-Noir', 'Horror', 'Musical', 'Mystery',\n",
    "              'Romance', 'Sci-Fi', 'Thriller', 'War', 'Western']\n",
    "data = pd.read_csv(file_path, sep='|', names=columns, encoding='latin-1')\n",
    "\n",
    "# u.user     -- Demographic information about the users; this is a tab\n",
    "#               separated list of\n",
    "#               user id | age | gender | occupation | zip code\n",
    "#               The user ids are the ones used in the u.data data set.\n",
    "\n",
    "# Path to the u.user file\n",
    "file_path = 'data/mk/u.user'  # Update this if the file is in a different directory\n",
    "columns = ['id', 'age', 'gender', 'occupation', 'zip_code']\n",
    "data = pd.read_csv(file_path, sep='|', names=columns)\n",
    "\n",
    "# Display the first few rows of the DataFrame to verify it's loaded correctly\n",
    "print(data.head())"
   ]
  }
 ],
 "metadata": {
  "kernelspec": {
   "display_name": "Python 3",
   "language": "python",
   "name": "python3"
  },
  "language_info": {
   "codemirror_mode": {
    "name": "ipython",
    "version": 3
   },
   "file_extension": ".py",
   "mimetype": "text/x-python",
   "name": "python",
   "nbconvert_exporter": "python",
   "pygments_lexer": "ipython3",
   "version": "3.9.6"
  }
 },
 "nbformat": 4,
 "nbformat_minor": 2
}
